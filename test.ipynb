{
  "nbformat": 4,
  "nbformat_minor": 0,
  "metadata": {
    "colab": {
      "provenance": [],
      "include_colab_link": true
    },
    "kernelspec": {
      "name": "python3",
      "display_name": "Python 3"
    },
    "language_info": {
      "name": "python"
    }
  },
  "cells": [
    {
      "cell_type": "markdown",
      "metadata": {
        "id": "view-in-github",
        "colab_type": "text"
      },
      "source": [
        "<a href=\"https://colab.research.google.com/github/AkashRoy5680/merck-test/blob/main/test.ipynb\" target=\"_parent\"><img src=\"https://colab.research.google.com/assets/colab-badge.svg\" alt=\"Open In Colab\"/></a>"
      ]
    },
    {
      "cell_type": "code",
      "source": [
        "import pandas as pd\n",
        "from statsmodels.tsa.holtwinters import ExponentialSmoothing\n",
        "import openpyxl\n",
        "\n",
        "# Load the dataset\n",
        "file_path = '/content/dataset.xlsx'\n",
        "data = pd.read_excel(file_path, sheet_name='data')\n",
        "\n",
        "# Isolate the time series data for Packs and Value for the forecasting model\n",
        "packs_series = data['Packs'].iloc[:4259]\n",
        "value_series = data['Value'].iloc[:4259]\n",
        "\n",
        "# Fit the Exponential Smoothing model on the non-missing data\n",
        "model_packs = ExponentialSmoothing(packs_series.dropna(), seasonal='add', seasonal_periods=12).fit()\n",
        "model_value = ExponentialSmoothing(value_series.dropna(), seasonal='add', seasonal_periods=12).fit()\n",
        "\n",
        "# Check the exact length needed for the forecast\n",
        "forecast_length = len(data.iloc[4259:5599])\n",
        "\n",
        "# Adjusting the forecast to match the required length\n",
        "packs_forecast = model_packs.forecast(forecast_length)\n",
        "value_forecast = model_value.forecast(forecast_length)\n",
        "\n",
        "# Load the workbook and select the sheet\n",
        "workbook = openpyxl.load_workbook(file_path)\n",
        "sheet = workbook['data']\n",
        "\n",
        "# Apply the forecasted data to the specified range\n",
        "for i, row in enumerate(range(4261, 5600)):  # G4261:H5599 corresponds to these rows\n",
        "    sheet[f'G{row}'].value = packs_forecast.values[i]\n",
        "    sheet[f'H{row}'].value = value_forecast.values[i]\n",
        "\n",
        "# Save the updated workbook with the same formatting\n",
        "output_file_path = '/content/dataset_with_forecast.xlsx'\n",
        "workbook.save(output_file_path)"
      ],
      "metadata": {
        "colab": {
          "base_uri": "https://localhost:8080/"
        },
        "id": "LhG8sObrmgQi",
        "outputId": "594d54bf-e968-43d6-92ef-bb93d77212f2"
      },
      "execution_count": 1,
      "outputs": [
        {
          "output_type": "stream",
          "name": "stderr",
          "text": [
            "/usr/local/lib/python3.10/dist-packages/statsmodels/tsa/holtwinters/model.py:918: ConvergenceWarning: Optimization failed to converge. Check mle_retvals.\n",
            "  warnings.warn(\n",
            "/usr/local/lib/python3.10/dist-packages/statsmodels/tsa/base/tsa_model.py:473: ValueWarning: An unsupported index was provided and will be ignored when e.g. forecasting.\n",
            "  self._init_dates(dates, freq)\n",
            "/usr/local/lib/python3.10/dist-packages/statsmodels/tsa/holtwinters/model.py:918: ConvergenceWarning: Optimization failed to converge. Check mle_retvals.\n",
            "  warnings.warn(\n",
            "/usr/local/lib/python3.10/dist-packages/statsmodels/tsa/base/tsa_model.py:836: ValueWarning: No supported index is available. Prediction results will be given with an integer index beginning at `start`.\n",
            "  return get_prediction_index(\n",
            "/usr/local/lib/python3.10/dist-packages/statsmodels/tsa/base/tsa_model.py:836: FutureWarning: No supported index is available. In the next version, calling this method in a model without a supported index will result in an exception.\n",
            "  return get_prediction_index(\n"
          ]
        }
      ]
    }
  ]
}